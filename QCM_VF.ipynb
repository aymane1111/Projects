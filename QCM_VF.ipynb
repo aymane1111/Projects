{
 "cells": [
  {
   "cell_type": "code",
   "execution_count": 54,
   "metadata": {},
   "outputs": [],
   "source": [
    "# Importer les modules \n",
    "import scipy.stats as stats\n",
    "import numpy as np\n",
    "import pandas as pd \n",
    "import matplotlib.pyplot as plt\n",
    "from scipy.stats import norm\n",
    "from scipy.interpolate import CubicSpline\n",
    "\n",
    "\n",
    "# Définir les paramètres de la distribution normale (moyenne et écart-type)\n",
    "moyenne = 0\n",
    "ecart_type = 1"
   ]
  },
  {
   "cell_type": "markdown",
   "metadata": {},
   "source": [
    "**BS sans dividendes**"
   ]
  },
  {
   "cell_type": "code",
   "execution_count": 55,
   "metadata": {},
   "outputs": [],
   "source": [
    "# Prix du call et du put Black Scholes à t = 0\n",
    "\n",
    "def call_BS (T,S0,K,sigma,r):\n",
    "    d_1 = ((1/(sigma*np.sqrt(T)))*np.log((S0/K) * np.exp(r*T))) + (1/2)*sigma*np.sqrt(T)\n",
    "    d_2 = ((1/(sigma*np.sqrt(T)))*np.log((S0/K) * np.exp(r*T))) - (1/2)*sigma*np.sqrt(T)\n",
    "    cdf_value_d1 = stats.norm.cdf(d_1, loc=moyenne, scale=ecart_type)\n",
    "    cdf_value_d2 = stats.norm.cdf(d_2, loc=moyenne, scale=ecart_type)\n",
    "    return S0 * cdf_value_d1 - K*np.exp(- r*T) * cdf_value_d2\n",
    "\n",
    "def put_BS (T,S0,K,sigma,r):\n",
    "    d_1 = ((1/(sigma*np.sqrt(T)))*np.log((S0/K) * np.exp(r*T))) + (1/2)*sigma*np.sqrt(T)\n",
    "    d_2 = ((1/(sigma*np.sqrt(T)))*np.log((S0/K) * np.exp(r*T))) - (1/2)*sigma*np.sqrt(T)\n",
    "    cdf_value_d1 = stats.norm.cdf(d_1, loc=moyenne, scale=ecart_type)\n",
    "    cdf_value_d2 = stats.norm.cdf(d_2, loc=moyenne, scale=ecart_type)\n",
    "    oppose_cdf_value_d1 = - cdf_value_d1\n",
    "    oppose_cdf_value_d2 = - cdf_value_d2\n",
    "    return K*np.exp(- r*T) * oppose_cdf_value_d2 -  S0 * oppose_cdf_value_d1\n",
    "\n",
    "# Greeks \n",
    "\n",
    "# Delta du call et du put sont différents \n",
    "def delta_call_BS (T,S0,K,sigma,r):\n",
    "    d_1 = ((1/(sigma*np.sqrt(T)))*np.log((S0/K) * np.exp(r*T))) + (1/2)*sigma*np.sqrt(T)\n",
    "    d_2 = ((1/(sigma*np.sqrt(T)))*np.log((S0/K) * np.exp(r*T))) - (1/2)*sigma*np.sqrt(T)\n",
    "    cdf_value_d1 = stats.norm.cdf(d_1, loc=moyenne, scale=ecart_type)\n",
    "    return cdf_value_d1\n",
    "\n",
    "def delta_put_BS (T,S0,K,sigma,r):\n",
    "    return delta_call_BS (T,S0,K,sigma,r) - 1\n",
    "    \n",
    "# Gamma du call et du put sont égaux\n",
    "def gamma_BS (T,S0,K,sigma,r):\n",
    "    d_1 = ((1/(sigma*np.sqrt(T)))*np.log((S0/K) * np.exp(r*T))) + (1/2)*sigma*np.sqrt(T)\n",
    "    return (1/(S0*sigma*np.sqrt(T)))*(1/np.sqrt(2*np.pi))*np.exp(-((d_1**2)/2))\n",
    "\n",
    "# Vega du call et du put\n",
    "def vega_BS (T,S0,K,sigma,r):\n",
    "    d_1 = ((1/(sigma*np.sqrt(T)))*np.log((S0/K) * np.exp(r*T))) + (1/2)*sigma*np.sqrt(T)\n",
    "    return S0 * np.sqrt(T) * (1/np.sqrt(2*np.pi)) * np.exp(-((d_1**2)/2))\n",
    "\n",
    "\n",
    "# Theta du call et du put sont différents    \n",
    "def theta_call_BS (T,S0,K,sigma,r): \n",
    "    d_1 = ((1/(sigma*np.sqrt(T)))*np.log((S0/K) * np.exp(r*T))) + (1/2)*sigma*np.sqrt(T)\n",
    "    d_2 = ((1/(sigma*np.sqrt(T)))*np.log((S0/K) * np.exp(r*T))) - (1/2)*sigma*np.sqrt(T)\n",
    "    cdf_value_d1 = stats.norm.cdf(d_1, loc=moyenne, scale=ecart_type)\n",
    "    cdf_value_d2 = stats.norm.cdf(d_2, loc=moyenne, scale=ecart_type)\n",
    "    return ((S0 * sigma * np.exp(-((d_1)**2)/2))/(2*np.sqrt(2*(np.pi)*T))) + (r*K*np.exp(- r*T)*cdf_value_d2)\n",
    "\n",
    "def theta_put_BS (T,S0,K,sigma,r): \n",
    "    d_1 = ((1/(sigma*np.sqrt(T)))*np.log((S0/K) * np.exp(r*T))) + (1/2)*sigma*np.sqrt(T)\n",
    "    d_2 = ((1/(sigma*np.sqrt(T)))*np.log((S0/K) * np.exp(r*T))) - (1/2)*sigma*np.sqrt(T)\n",
    "    cdf_value_d1 = stats.norm.cdf(d_1, loc=moyenne, scale=ecart_type)\n",
    "    cdf_value_d2 = stats.norm.cdf(d_2, loc=moyenne, scale=ecart_type)\n",
    "    return ((S0 * sigma * np.exp(-((d_1)**2)/2))/(2*np.sqrt(2*(np.pi)*T))) - (r*K*np.exp(- r*T)*(1 - cdf_value_d2))\n",
    "    \n",
    "    \n",
    "    \n",
    "    \n",
    "\n"
   ]
  },
  {
   "cell_type": "markdown",
   "metadata": {},
   "source": [
    "**BS avec dividendes (à taux continu q)**"
   ]
  },
  {
   "cell_type": "code",
   "execution_count": 56,
   "metadata": {},
   "outputs": [],
   "source": [
    "# Black-Scholes avec dividendes (versement des dividendes au taux continu q)\n",
    "\n",
    "# Option call européenne (prix à l'instant 0)\n",
    "\n",
    "def call_BS_dividend (T,S0,K,sigma,r,q): \n",
    "    d_1_dividend = ((1/(sigma*np.sqrt(T)))*np.log((S0/K) * np.exp((r-q)*T))) + (1/2)*sigma*np.sqrt(T)\n",
    "    d_2_dividend = ((1/(sigma*np.sqrt(T)))*np.log((S0/K) * np.exp((r-q)*T))) - (1/2)*sigma*np.sqrt(T)\n",
    "    cdf_value_d1_dividend = stats.norm.cdf(d_1_dividend, loc=moyenne, scale=ecart_type)\n",
    "    cdf_value_d2_dividend = stats.norm.cdf(d_2_dividend, loc=moyenne, scale=ecart_type)\n",
    "    return S0*np.exp(-q*T)*cdf_value_d1_dividend - K*np.exp(-r*T)*cdf_value_d2_dividend \n",
    "\n",
    "# option put européenne (prix à l'instant 0)\n",
    "\n",
    "def put_BS_dividend (T,S0,K,sigma,r,q): \n",
    "    d_1_dividend = ((1/(sigma*np.sqrt(T)))*np.log((S0/K) * np.exp((r-q)*T))) + (1/2)*sigma*np.sqrt(T)\n",
    "    d_2_dividend = ((1/(sigma*np.sqrt(T)))*np.log((S0/K) * np.exp((r-q)*T))) - (1/2)*sigma*np.sqrt(T)\n",
    "    cdf_value_d1_dividend = stats.norm.cdf(d_1_dividend, loc=moyenne, scale=ecart_type)\n",
    "    cdf_value_d2_dividend = stats.norm.cdf(d_2_dividend, loc=moyenne, scale=ecart_type)\n",
    "    return K*np.exp(-r*T)*cdf_value_d1_dividend - S0*np.exp(-q*T)*cdf_value_d2_dividend\n",
    "\n",
    "\n",
    "# Greeks (Modèle BS avec dividendes)\n",
    "\n",
    "# Delta \n",
    "\n",
    "def delta_call_BS_dividendes (T,S0,K,sigma,r,q):\n",
    "    d_1_dividend = ((1/(sigma*np.sqrt(T)))*np.log((S0/K) * np.exp((r-q)*T))) + (1/2)*sigma*np.sqrt(T)\n",
    "    cdf_value_d1_dividend = stats.norm.cdf(d_1_dividend, loc=moyenne, scale=ecart_type)\n",
    "    return np.exp(-q*T)*cdf_value_d1_dividend\n",
    "\n",
    "def delta_put_BS_dividendes (T,S0,K,sigma,r,q):\n",
    "    return delta_call_BS_dividendes (T,S0,K,sigma,r,q) - np.exp(-q*T)\n",
    "\n",
    "# Gamma du call et du put (même valeur)\n",
    "\n",
    "def gamma_BS_dividendes (T,S0,K,sigma,r,q):\n",
    "    d_1_dividend = ((1/(sigma*np.sqrt(T)))*np.log((S0/K) * np.exp((r-q)*T))) + (1/2)*sigma*np.sqrt(T)\n",
    "    return (1/(S0*sigma*np.sqrt(T)))*(1/np.sqrt(2*np.pi))*np.exp(-((d_1_dividend**2)/2))*np.exp(-q*T)\n",
    "    \n",
    "\n",
    "# Vega du call et du put (même valeur)\n",
    "\n",
    "def vega_BS_dividende (T,S0,K,sigma,r,q):\n",
    "    d_1_dividend = ((1/(sigma*np.sqrt(T)))*np.log((S0/K) * np.exp((r-q)*T))) + (1/2)*sigma*np.sqrt(T)\n",
    "    return S0 * np.sqrt(T) * (1/np.sqrt(2*np.pi)) * np.exp(-((d_1_dividend**2)/2))*np.exp(-q*T)\n",
    "\n",
    "# Rho du call et du put sont différents \n",
    "\n",
    "def rho_call_BS_dividendes (T,S0,K,sigma,r,q):\n",
    "    d_1_dividend = ((1/(sigma*np.sqrt(T)))*np.log((S0/K) * np.exp((r-q)*T))) + (1/2)*sigma*np.sqrt(T)\n",
    "    d_2_dividend = ((1/(sigma*np.sqrt(T)))*np.log((S0/K) * np.exp((r-q)*T))) - (1/2)*sigma*np.sqrt(T)\n",
    "    cdf_value_d1_dividend = stats.norm.cdf(d_1_dividend, loc=moyenne, scale=ecart_type)\n",
    "    cdf_value_d2_dividend = stats.norm.cdf(d_2_dividend, loc=moyenne, scale=ecart_type)\n",
    "    return K*T*np.exp(-r*T)*cdf_value_d2_dividend\n",
    "\n",
    "\n",
    "def rho_put_BS_dividendes (T,S0,K,sigma,r,q):\n",
    "    d_1_dividend = ((1/(sigma*np.sqrt(T)))*np.log((S0/K) * np.exp((r-q)*T))) + (1/2)*sigma*np.sqrt(T)\n",
    "    d_2_dividend = ((1/(sigma*np.sqrt(T)))*np.log((S0/K) * np.exp((r-q)*T))) - (1/2)*sigma*np.sqrt(T)\n",
    "    cdf_value_opposee_d2_dividend = stats.norm.cdf(d_2_dividend, loc=moyenne, scale=ecart_type)\n",
    "    return - K*T*np.exp(-r*T)*cdf_value_opposee_d2_dividend\n",
    "\n",
    "    \n",
    "    \n",
    "\n",
    "\n",
    "    \n"
   ]
  },
  {
   "cell_type": "markdown",
   "metadata": {},
   "source": [
    "**Greeks in the BS model with dividends**"
   ]
  },
  {
   "cell_type": "markdown",
   "metadata": {},
   "source": [
    "![Alt text](image.png)"
   ]
  },
  {
   "cell_type": "markdown",
   "metadata": {},
   "source": [
    "**Arbre binomiale**"
   ]
  },
  {
   "cell_type": "code",
   "execution_count": 57,
   "metadata": {},
   "outputs": [
    {
     "data": {
      "text/plain": [
       "'\\n# Arbre binomiale \\n\\n# European call option \\n\\ndef arbre_binomial_n_etapes_call(S0, K, r, u, d, n):\\n    dt = 1 / n  # Division de l\\'unité de temps en n étapes\\n\\n    # Calcul du facteur de probabilité neutre au risque\\n    q = (1 + r - d) / (u - d)\\n\\n    # Création de l\\'arbre des prix de l\\'actif à n étapes\\n    stock_tree = np.zeros((n + 1, n + 1))\\n    for i in range(n + 1):\\n        for j in range(i + 1):\\n            stock_tree[j, i] = S0 * (u ** (i - j)) * (d ** j)\\n\\n    # Calcul des paiements à l\\'expiration de l\\'option\\n    option_tree = np.zeros((n + 1, n + 1))\\n    for i in range(n + 1):\\n        option_tree[i, n] = max(stock_tree[i, n] - K, 0)\\n\\n    # Remontée de l\\'arbre pour évaluer l\\'option\\n    for i in range(n - 1, -1, -1):\\n        for j in range(i + 1):\\n            option_tree[j, i] = (q * option_tree[j, i + 1] + (1 - q) * option_tree[j + 1, i + 1]) / (1 + r)\\n\\n    return option_tree[0, 0]\\n\\n\\n\\n\\n# European put option \\n\\ndef arbre_binomial_n_etapes_put(S0, K, r, u, d, n):\\n    dt = 1 / n  # Division de l\\'unité de temps en n étapes\\n\\n    # Calcul du facteur de probabilité neutre au risque\\n    q = (1 + r - d) / (u - d)\\n\\n    # Création de l\\'arbre des prix de l\\'actif à n étapes\\n    stock_tree = np.zeros((n + 1, n + 1))\\n    for i in range(n + 1):\\n        for j in range(i + 1):\\n            stock_tree[j, i] = S0 * (u ** (i - j)) * (d ** j)\\n\\n    # Calcul des paiements à l\\'expiration de l\\'option (pour un \"put\")\\n    option_tree = np.zeros((n + 1, n + 1))\\n    for i in range(n + 1):\\n        option_tree[i, n] = max(K - stock_tree[i, n], 0)\\n\\n    # Remontée de l\\'arbre pour évaluer l\\'option (pour un \"put\")\\n    for i in range(n - 1, -1, -1):\\n        for j in range(i + 1):\\n            option_tree[j, i] = (q * option_tree[j, i + 1] + (1 - q) * option_tree[j + 1, i + 1]) / (1 + r)\\n\\n    return option_tree[0, 0]\\n'"
      ]
     },
     "execution_count": 57,
     "metadata": {},
     "output_type": "execute_result"
    }
   ],
   "source": [
    "\"\"\"\n",
    "# Arbre binomiale \n",
    "\n",
    "# European call option \n",
    "\n",
    "def arbre_binomial_n_etapes_call(S0, K, r, u, d, n):\n",
    "    dt = 1 / n  # Division de l'unité de temps en n étapes\n",
    "\n",
    "    # Calcul du facteur de probabilité neutre au risque\n",
    "    q = (1 + r - d) / (u - d)\n",
    "\n",
    "    # Création de l'arbre des prix de l'actif à n étapes\n",
    "    stock_tree = np.zeros((n + 1, n + 1))\n",
    "    for i in range(n + 1):\n",
    "        for j in range(i + 1):\n",
    "            stock_tree[j, i] = S0 * (u ** (i - j)) * (d ** j)\n",
    "\n",
    "    # Calcul des paiements à l'expiration de l'option\n",
    "    option_tree = np.zeros((n + 1, n + 1))\n",
    "    for i in range(n + 1):\n",
    "        option_tree[i, n] = max(stock_tree[i, n] - K, 0)\n",
    "\n",
    "    # Remontée de l'arbre pour évaluer l'option\n",
    "    for i in range(n - 1, -1, -1):\n",
    "        for j in range(i + 1):\n",
    "            option_tree[j, i] = (q * option_tree[j, i + 1] + (1 - q) * option_tree[j + 1, i + 1]) / (1 + r)\n",
    "\n",
    "    return option_tree[0, 0]\n",
    "\n",
    "\n",
    "\n",
    "\n",
    "# European put option \n",
    "\n",
    "def arbre_binomial_n_etapes_put(S0, K, r, u, d, n):\n",
    "    dt = 1 / n  # Division de l'unité de temps en n étapes\n",
    "\n",
    "    # Calcul du facteur de probabilité neutre au risque\n",
    "    q = (1 + r - d) / (u - d)\n",
    "\n",
    "    # Création de l'arbre des prix de l'actif à n étapes\n",
    "    stock_tree = np.zeros((n + 1, n + 1))\n",
    "    for i in range(n + 1):\n",
    "        for j in range(i + 1):\n",
    "            stock_tree[j, i] = S0 * (u ** (i - j)) * (d ** j)\n",
    "\n",
    "    # Calcul des paiements à l'expiration de l'option (pour un \"put\")\n",
    "    option_tree = np.zeros((n + 1, n + 1))\n",
    "    for i in range(n + 1):\n",
    "        option_tree[i, n] = max(K - stock_tree[i, n], 0)\n",
    "\n",
    "    # Remontée de l'arbre pour évaluer l'option (pour un \"put\")\n",
    "    for i in range(n - 1, -1, -1):\n",
    "        for j in range(i + 1):\n",
    "            option_tree[j, i] = (q * option_tree[j, i + 1] + (1 - q) * option_tree[j + 1, i + 1]) / (1 + r)\n",
    "\n",
    "    return option_tree[0, 0]\n",
    "\"\"\""
   ]
  },
  {
   "cell_type": "code",
   "execution_count": 58,
   "metadata": {},
   "outputs": [],
   "source": [
    "\n",
    "# Binomial trees \n",
    "\n",
    "# European call \n",
    "def european_call_option_pricing_binomial_trees(S0, K, r, n, u, d):\n",
    "    p = (1 + r - d) / (u - d)\n",
    "\n",
    "    # Creation of the stock price tree\n",
    "    stock_tree = np.zeros((n + 1, n + 1))\n",
    "    stock_tree[0, 0] = S0\n",
    "    for i in range(1, n + 1):\n",
    "        stock_tree[i, 0] = stock_tree[i - 1, 0] * u\n",
    "        for j in range(1, i + 1):\n",
    "            stock_tree[i, j] = stock_tree[i - 1, j - 1] * d\n",
    "\n",
    "    # Calculate option values at expiration\n",
    "    option_tree = np.zeros((n + 1, n + 1))\n",
    "    for j in range(n + 1):\n",
    "        option_tree[n, j] = max(0, stock_tree[n, j] - K)\n",
    "\n",
    "    # Backward induction for calculating the option's current value\n",
    "    for i in range(n - 1, -1, -1):\n",
    "        for j in range(i + 1):\n",
    "            option_tree[i, j] = (p * option_tree[i + 1, j] + (1 - p) * option_tree[i + 1, j + 1]) / (1 + r)\n",
    "\n",
    "    return option_tree[0, 0]\n",
    "\n",
    "# European put\n",
    "def european_put_option_pricing_binomial_trees(S0, K, r, n, u, d):\n",
    "    p = (1 + r - d) / (u - d)\n",
    "\n",
    "    # Creation of the stock price tree\n",
    "    stock_tree = np.zeros((n + 1, n + 1))\n",
    "    stock_tree[0, 0] = S0\n",
    "    for i in range(1, n + 1):\n",
    "        stock_tree[i, 0] = stock_tree[i - 1, 0] * u\n",
    "        for j in range(1, i + 1):\n",
    "            stock_tree[i, j] = stock_tree[i - 1, j - 1] * d\n",
    "\n",
    "    # Calculate option values at expiration\n",
    "    option_tree = np.zeros((n + 1, n + 1))\n",
    "    for j in range(n + 1):\n",
    "        option_tree[n, j] = max(0, K - stock_tree[n, j])\n",
    "\n",
    "    # Backward induction for calculating the option's current value\n",
    "    for i in range(n - 1, -1, -1):\n",
    "        for j in range(i + 1):\n",
    "            option_tree[i, j] = (p * option_tree[i + 1, j] + (1 - p) * option_tree[i + 1, j + 1]) / (1 + r)\n",
    "\n",
    "    return option_tree[0, 0]\n"
   ]
  },
  {
   "cell_type": "markdown",
   "metadata": {},
   "source": [
    "**Volatilité implicite**"
   ]
  },
  {
   "cell_type": "code",
   "execution_count": 59,
   "metadata": {},
   "outputs": [
    {
     "data": {
      "text/plain": [
       "'\\n# Volatilité implicite BS sans dividendes (Méthode de Newton)\\n\\ndef vol_implicit_BS (T,S0,K,r,n,market_price):\\n    if n == 0 : \\n        return np.sqrt((2*np.abs(np.log((S0*np.exp(r)*T)/K)))/T)\\n    elif n >= 1 :\\n        return vol_implicit_BS (T,S0,K,r,n-1,market_price)- ((call_BS (T,S0,K,vol_implicit_BS (T,S0,K,r,n-1,market_price),r)) - market_price)/(vega_BS (T,S0,K,vol_implicit_BS (T,S0,K,r,n-1,market_price),r))\\n\\n\\n\\n# Volatilité implicite BS avec dividendes (Méthode de Newton)  \\n\\ndef vol_implicit_BS_dividende (T,S0,K,r,q,n,market_price):\\n    if n == 0 : \\n        return np.sqrt((2*np.abs(np.log((S0*np.exp(r-q)*T)/K)))/T)\\n    elif n >= 1 :\\n        return vol_implicit_BS_dividende (T,S0,K,r,q,n-1,market_price)- ((call_BS_dividend(T,S0,K,vol_implicit_BS_dividende (T,S0,K,r,q,n-1,market_price),r,q)) - market_price)/(vega_BS_dividendes(T,S0,K,vol_implicit_BS_dividende (T,S0,K,r,q,n-1,market_price),r,q))\\n\\n'"
      ]
     },
     "execution_count": 59,
     "metadata": {},
     "output_type": "execute_result"
    }
   ],
   "source": [
    "\"\"\"\n",
    "# Volatilité implicite BS sans dividendes (Méthode de Newton)\n",
    "\n",
    "def vol_implicit_BS (T,S0,K,r,n,market_price):\n",
    "    if n == 0 : \n",
    "        return np.sqrt((2*np.abs(np.log((S0*np.exp(r)*T)/K)))/T)\n",
    "    elif n >= 1 :\n",
    "        return vol_implicit_BS (T,S0,K,r,n-1,market_price)- ((call_BS (T,S0,K,vol_implicit_BS (T,S0,K,r,n-1,market_price),r)) - market_price)/(vega_BS (T,S0,K,vol_implicit_BS (T,S0,K,r,n-1,market_price),r))\n",
    "\n",
    "\n",
    "\n",
    "# Volatilité implicite BS avec dividendes (Méthode de Newton)  \n",
    "\n",
    "def vol_implicit_BS_dividende (T,S0,K,r,q,n,market_price):\n",
    "    if n == 0 : \n",
    "        return np.sqrt((2*np.abs(np.log((S0*np.exp(r-q)*T)/K)))/T)\n",
    "    elif n >= 1 :\n",
    "        return vol_implicit_BS_dividende (T,S0,K,r,q,n-1,market_price)- ((call_BS_dividend(T,S0,K,vol_implicit_BS_dividende (T,S0,K,r,q,n-1,market_price),r,q)) - market_price)/(vega_BS_dividendes(T,S0,K,vol_implicit_BS_dividende (T,S0,K,r,q,n-1,market_price),r,q))\n",
    "\n",
    "\"\"\"\n"
   ]
  },
  {
   "cell_type": "code",
   "execution_count": 60,
   "metadata": {},
   "outputs": [],
   "source": [
    "# Point de départ de l'algo de Newton pour calculer la vol implicite\n",
    "def vol_implicit_BS_dividende_initiale(T, S0, K, r, q):\n",
    "    vol = np.sqrt((2 * np.abs(np.log((S0 * np.exp((r - q) * T)) / K))) / T)\n",
    "    return vol"
   ]
  },
  {
   "cell_type": "code",
   "execution_count": 61,
   "metadata": {},
   "outputs": [],
   "source": [
    "def vega_BS_dividendes(T, S0, K, sigma, r, q):\n",
    "    d1 = (np.log(S0 / K) + (r - q + (sigma ** 2) / 2) * T) / (sigma * np.sqrt(T))\n",
    "    \n",
    "    vega = S0 * np.exp(-q * T) * norm.pdf(d1) * np.sqrt(T)\n",
    "    \n",
    "    return vega\n",
    "\n",
    "def vol_implicit_BS_dividende(T, S0, K, r, q, market_price, max_iter=1000, tol=1e-5):\n",
    "    # Initial guess for volatility based on the provided formula\n",
    "    vol = np.sqrt((2 * np.abs(np.log((S0 * np.exp((r - q) * T)) / K))) / T)\n",
    "    \n",
    "    for _ in range(max_iter):\n",
    "        d1 = (np.log(S0 / K) + (r - q + (vol ** 2) / 2) * T) / (vol * np.sqrt(T))\n",
    "        d2 = d1 - vol * np.sqrt(T)\n",
    "        option_price = S0 * np.exp(-q * T) * norm.cdf(d1) - K * np.exp(-r * T) * norm.cdf(d2)\n",
    "        vega = vega_BS_dividendes(T, S0, K, vol, r, q)\n",
    "        price_error = option_price - market_price\n",
    "        \n",
    "        if abs(price_error) < tol:\n",
    "            return vol\n",
    "        \n",
    "        vol = vol - price_error / vega\n",
    "    \n",
    "    # If max_iter is reached without convergence, return None or raise an exception\n",
    "    return None"
   ]
  },
  {
   "cell_type": "code",
   "execution_count": 62,
   "metadata": {},
   "outputs": [],
   "source": [
    "def vega_DLN_dividendes(T, S0, K,a, sigma, r, q):\n",
    "    d1 = (np.log((S0+a) / (K+a)) + (r - q + (sigma ** 2) / 2) * T) / (sigma * np.sqrt(T))\n",
    "    \n",
    "    vega = (S0+a) * np.exp(-q * T) * norm.pdf(d1) * np.sqrt(T)\n",
    "    \n",
    "    return vega\n",
    "\n",
    "\n",
    "# Si on a le market price \n",
    "def vol_implicit_DLN_dividende(T, S0, K,a, r, q, market_price, max_iter=1000, tol=1e-5):\n",
    "    # Initial guess for volatility based on the provided formula\n",
    "    vol = np.sqrt((2 * np.abs(np.log(((S0+a) * np.exp((r - q) * T)) / (K+a)))) / T)\n",
    "    \n",
    "    for _ in range(max_iter):\n",
    "        d1 = (np.log((S0+a) / (K+a)) + (r - q + (vol ** 2) / 2) * T) / (vol * np.sqrt(T))\n",
    "        d2 = d1 - vol * np.sqrt(T)\n",
    "        option_price = (S0+a) * np.exp(-q * T) * norm.cdf(d1) - (K+a) * np.exp(-r * T) * norm.cdf(d2)\n",
    "        vega = vega_DLN_dividendes(T, S0, K,a, vol, r, q)\n",
    "        price_error = option_price - market_price\n",
    "        \n",
    "        if abs(price_error) < tol:\n",
    "            return vol\n",
    "        \n",
    "        vol = vol - price_error / vega\n",
    "    \n",
    "    # If max_iter is reached without convergence, return None or raise an exception\n",
    "    return None\n",
    "\n",
    "\n",
    "# Si on n'a pas le market price (Relation avec la vol implicite BS)\n",
    "\n",
    "\n",
    "\n",
    "\n"
   ]
  },
  {
   "cell_type": "markdown",
   "metadata": {},
   "source": [
    "**Alternatives models (DLN, Bachelier...)**"
   ]
  },
  {
   "cell_type": "code",
   "execution_count": 63,
   "metadata": {},
   "outputs": [],
   "source": [
    "# Alternatives model \n",
    "\n",
    "# Displaced log normal \n",
    "\n",
    "# Prix d'un call \n",
    "def call_DLN (T,S0,K,a,sigma,r): \n",
    "    return call_BS (T, S0 + a, K + a, sigma, r)\n",
    "# Prix d'un put \n",
    "def put_DLN (T,S0,K,a,sigma,r): \n",
    "    return put_BS (T, S0 + a, K + a, sigma, r)\n",
    "\n",
    "\n",
    "\n",
    "\n",
    "# Bachelier \n",
    "\n",
    "# Prix d'un call\n",
    "def call_Bachelier (T, S0, K, sigma, r) :\n",
    "    value = (S0 - K)/ (sigma*np.sqrt(T))\n",
    "    cdf_value = stats.norm.cdf(value, loc=moyenne, scale=ecart_type)\n",
    "    return ((S0 - K)*cdf_value) + sigma*np.sqrt(T)*(1/np.sqrt(2*np.pi))*np.exp(-(value**2)/2)\n",
    "    \n"
   ]
  },
  {
   "cell_type": "markdown",
   "metadata": {},
   "source": [
    "**Pricing du power call**"
   ]
  },
  {
   "cell_type": "code",
   "execution_count": 64,
   "metadata": {},
   "outputs": [],
   "source": [
    "def power_call_BS_dividend (T,S0,K,sigma,r,q,n): \n",
    "    d_1_dividend = (1/(sigma*np.sqrt(T))) * (np.log(S0/K**(1/n)) + (r-q + (n-0.5)*sigma**2)*T)\n",
    "    d_2_dividend = d_1_dividend - n*sigma*np.sqrt(T)\n",
    "    cdf_value_d1_dividend = stats.norm.cdf(d_1_dividend, loc=moyenne, scale=ecart_type)\n",
    "    cdf_value_d2_dividend = stats.norm.cdf(d_2_dividend, loc=moyenne, scale=ecart_type)\n",
    "    return (S0**n)*np.exp((n-1)*(r+(n*sigma**2)/2)*T- n*q*T)*cdf_value_d1_dividend - K*np.exp(-r*T)*cdf_value_d2_dividend "
   ]
  },
  {
   "cell_type": "markdown",
   "metadata": {},
   "source": [
    "**Option digitale (binaire)**"
   ]
  },
  {
   "cell_type": "code",
   "execution_count": 65,
   "metadata": {},
   "outputs": [],
   "source": [
    "def call_digital_option (T,S0,K,sigma,r):\n",
    "    d_2 = ((1/(sigma*np.sqrt(T)))*np.log((S0/K) * np.exp(r*T))) - (1/2)*sigma*np.sqrt(T)\n",
    "    cdf_value_d2 = stats.norm.cdf(d_2, loc=moyenne, scale=ecart_type)\n",
    "    return np.exp(- r*T) * cdf_value_d2"
   ]
  },
  {
   "cell_type": "markdown",
   "metadata": {},
   "source": [
    "**Options américaines**"
   ]
  },
  {
   "cell_type": "code",
   "execution_count": 66,
   "metadata": {},
   "outputs": [],
   "source": [
    "# American options \n",
    "\n",
    "# American call\n",
    "def american_call_option_pricing(S0, K, r, n, u, d):\n",
    "    p = (1 + r - d) / (u - d)\n",
    "\n",
    "    # Création de l'arbre des prix de l'actif sous-jacent\n",
    "    stock_tree = np.zeros((n + 1, n + 1))\n",
    "    stock_tree[0, 0] = S0\n",
    "    for i in range(1, n + 1):\n",
    "        stock_tree[i, 0] = stock_tree[i - 1, 0] * u\n",
    "        for j in range(1, i + 1):\n",
    "            stock_tree[i, j] = stock_tree[i - 1, j - 1] * d\n",
    "\n",
    "    # Calcul des valeurs d'option à l'expiration\n",
    "    option_tree = np.zeros((n + 1, n + 1))\n",
    "    for j in range(n + 1):\n",
    "        option_tree[n, j] = max(0, stock_tree[n, j] - K)\n",
    "\n",
    "    # Backward induction pour calculer la valeur actuelle de l'option\n",
    "    for i in range(n - 1, -1, -1):\n",
    "        for j in range(i + 1):\n",
    "            option_tree[i, j] = (p * option_tree[i + 1, j] + (1 - p) * option_tree[i + 1, j + 1]) / (1 + r)\n",
    "            stock_price = stock_tree[i, j]\n",
    "            early_exercise = max(0, stock_price - K)\n",
    "            option_tree[i, j] = max(option_tree[i, j], early_exercise)\n",
    "\n",
    "    return option_tree[0, 0]\n",
    "\n",
    "# American put \n",
    "def american_put_option_pricing(S0, K, r, n, u, d):\n",
    "    p = (1 + r - d) / (u - d)\n",
    "\n",
    "    # Création de l'arbre des prix de l'actif sous-jacent\n",
    "    stock_tree = np.zeros((n + 1, n + 1))\n",
    "    stock_tree[0, 0] = S0\n",
    "    for i in range(1, n + 1):\n",
    "        stock_tree[i, 0] = stock_tree[i - 1, 0] * u\n",
    "        for j in range(1, i + 1):\n",
    "            stock_tree[i, j] = stock_tree[i - 1, j - 1] * d\n",
    "\n",
    "    # Calcul des valeurs d'option à l'expiration\n",
    "    option_tree = np.zeros((n + 1, n + 1))\n",
    "    for j in range(n + 1):\n",
    "        option_tree[n, j] = max(0, K - stock_tree[n, j])\n",
    "\n",
    "    # Backward induction pour calculer la valeur actuelle de l'option\n",
    "    for i in range(n - 1, -1, -1):\n",
    "        for j in range(i + 1):\n",
    "            option_tree[i, j] = (p * option_tree[i + 1, j] + (1 - p) * option_tree[i + 1, j + 1])/(1+r)\n",
    "            stock_price = stock_tree[i, j]\n",
    "            early_exercise = max(0, K - stock_price)\n",
    "            option_tree[i, j] = max(option_tree[i, j], early_exercise)\n",
    "\n",
    "    return option_tree[0, 0]"
   ]
  },
  {
   "cell_type": "code",
   "execution_count": 67,
   "metadata": {},
   "outputs": [],
   "source": [
    "# Aggrégation du prix \n",
    "\n",
    "# Volume Weighted Median\n",
    "\n",
    "def compute_vwm(file_name):\n",
    "    # Step 1: Load the data\n",
    "    data = pd.read_csv(file_name, delimiter=';')\n",
    "    \n",
    "    # Step 2: Sort the data based on Price\n",
    "    data = data.sort_values(by='Price')\n",
    "    \n",
    "    # Step 3: Calculate cumulative volumes\n",
    "    data['Cumulative_Volume'] = data['Volume'].cumsum()\n",
    "    total_volume = data['Volume'].sum()\n",
    "    \n",
    "    # Step 4: Find the interval where the median volume lies\n",
    "    median_volume = total_volume / 2\n",
    "    below_median = data[data['Cumulative_Volume'] < median_volume]\n",
    "    above_median = data[data['Cumulative_Volume'] >= median_volume]\n",
    "\n",
    "    if not below_median.empty:\n",
    "        price_below = below_median['Price'].iloc[-1]\n",
    "        volume_below = below_median['Cumulative_Volume'].iloc[-1]\n",
    "    else:\n",
    "        price_below = 0\n",
    "        volume_below = 0\n",
    "\n",
    "    price_above = above_median['Price'].iloc[0]\n",
    "    volume_above = above_median['Cumulative_Volume'].iloc[0]\n",
    "    \n",
    "    # Step 5: Linearly interpolate to find the VWM\n",
    "    vwm = price_below + (price_above - price_below) * (median_volume - volume_below) / (volume_above - volume_below)\n",
    "\n",
    "    return round(vwm, 3)"
   ]
  },
  {
   "cell_type": "code",
   "execution_count": 82,
   "metadata": {},
   "outputs": [
    {
     "data": {
      "text/plain": [
       "0.297979361701444"
      ]
     },
     "execution_count": 82,
     "metadata": {},
     "output_type": "execute_result"
    }
   ],
   "source": [
    "# Volatilité d'un asset path dependant (IL FAUT PENSER A REMPLACER LES POIDS ET LES VOLATILITES)\n",
    "\n",
    "np.sqrt((0.349000**2 + 0.334000**2 + 0.317000**2 + 3*(0.297000)**2 + 4*(0.269000)**2)/10)"
   ]
  },
  {
   "cell_type": "markdown",
   "metadata": {},
   "source": [
    "* Between now and 1 months, it is equal to 0.349000\n",
    "* Between 1 and 2 months, it is equal to 0.334000\n",
    "* Between 2 and 3 months, it is equal to 0.317000\n",
    "* Between 3 and 6 months, it is equal to 0.297000\n",
    "* Between 6 and 10 months, it is equal to 0.269000"
   ]
  },
  {
   "cell_type": "code",
   "execution_count": 83,
   "metadata": {},
   "outputs": [
    {
     "data": {
      "text/plain": [
       "23.729"
      ]
     },
     "execution_count": 83,
     "metadata": {},
     "output_type": "execute_result"
    }
   ],
   "source": [
    "compute_vwm(file_name = \"C:/Users/ayman/Downloads/téléchargement (38).csv\")"
   ]
  },
  {
   "cell_type": "code",
   "execution_count": 84,
   "metadata": {},
   "outputs": [
    {
     "data": {
      "text/plain": [
       "1.1686927088698669"
      ]
     },
     "execution_count": 84,
     "metadata": {},
     "output_type": "execute_result"
    }
   ],
   "source": [
    "# Question Delta-Gamme Hedging avec un deuxième call\n",
    "gamma_BS (T=0.456000,S0=105.670000,K=100.650000,sigma=0.178000,r=0.003000)/ gamma_BS (T=0.674000,S0=105.670000,K=101.170000,sigma=0.178000,r=0.003000)"
   ]
  },
  {
   "cell_type": "code",
   "execution_count": 71,
   "metadata": {},
   "outputs": [],
   "source": [
    "# Corrélation spot (instannée) (EXEMPLE AVEC DES VECTEURS DE VOL DE DIM 2)\n",
    "\n",
    "# (0.090000  0.111000)\n",
    "# (-0.024000 0.049000)\n",
    "# (0.090000*(-0.024000) + 0.111000*0.049000)/(np.sqrt(0.090000**2 + 0.111000**2)*np.sqrt(0.024000**2 + 0.049000**2))"
   ]
  },
  {
   "cell_type": "code",
   "execution_count": 85,
   "metadata": {},
   "outputs": [
    {
     "data": {
      "text/plain": [
       "-0.9062005225516588"
      ]
     },
     "execution_count": 85,
     "metadata": {},
     "output_type": "execute_result"
    }
   ],
   "source": [
    "(-0.075000*0.233000 + 0.209000*(-0.235000))/(np.sqrt(0.075000**2 + 0.209000**2)*np.sqrt(0.233000**2 + 0.235000**2))\n"
   ]
  },
  {
   "cell_type": "code",
   "execution_count": 88,
   "metadata": {},
   "outputs": [
    {
     "data": {
      "text/plain": [
       "0.3897079885894204"
      ]
     },
     "execution_count": 88,
     "metadata": {},
     "output_type": "execute_result"
    }
   ],
   "source": [
    "sigma11 = np.sqrt(0.207000**2 - 0.112000**2)\n",
    "sigma12 = np.sqrt(0.220000**2 - 0.124000**2)\n",
    "correl = (sigma11*sigma12 - 0.112000*0.124000)/(0.207000*0.220000)\n",
    "correl "
   ]
  },
  {
   "cell_type": "code",
   "execution_count": 86,
   "metadata": {},
   "outputs": [
    {
     "data": {
      "text/plain": [
       "0.24846041495578325"
      ]
     },
     "execution_count": 86,
     "metadata": {},
     "output_type": "execute_result"
    }
   ],
   "source": [
    "np.sqrt (0.1593**2 + 0.1241**2 + 2*0.53*0.1241*0.1593)"
   ]
  },
  {
   "cell_type": "markdown",
   "metadata": {},
   "source": [
    "**IV DELTA 25**"
   ]
  },
  {
   "cell_type": "code",
   "execution_count": 74,
   "metadata": {},
   "outputs": [],
   "source": [
    "# IV Delta 25\n",
    "\n",
    "def calculate_iv_25(csv_path, forward, T):\n",
    "    # Read the CSV data and drop the unwanted column\n",
    "    data = pd.read_csv(csv_path, sep=\";\").drop(columns=[\"Unnamed: 2\"])\n",
    "\n",
    "    # Extract strike and implied volatility values\n",
    "    strike = np.array(data[\"Strike\"])\n",
    "    implied_vol = np.array(data[\"IV\"])\n",
    "\n",
    "    # Compute moneyness and d1 values\n",
    "    moneyness = np.log(strike / forward)\n",
    "    d1 = -moneyness / (implied_vol * np.sqrt(T)) + 0.5 * implied_vol * np.sqrt(T)\n",
    "\n",
    "    # Compute delta values and flip them\n",
    "    delta = norm.cdf(d1)\n",
    "    delta = np.flip(delta)\n",
    "    \n",
    "    # Flip implied volatility values\n",
    "    implied_vol = np.flip(implied_vol)\n",
    "\n",
    "    # Compute cubic spline interpolation\n",
    "    cs = CubicSpline(delta, implied_vol)\n",
    "    iv_25 = cs(0.25)\n",
    "\n",
    "    return iv_25"
   ]
  },
  {
   "cell_type": "markdown",
   "metadata": {},
   "source": [
    "**P&L**\n"
   ]
  },
  {
   "cell_type": "code",
   "execution_count": 75,
   "metadata": {},
   "outputs": [],
   "source": [
    "\n",
    "def bs_call_price(S, K, T, r, vol):\n",
    "    d1 = (np.log(S / K) + (r + 0.5 * vol**2) * T) / (vol * np.sqrt(T))\n",
    "    d2 = d1 - vol * np.sqrt(T)\n",
    "    return S * norm.cdf(d1) - K * np.exp(-r * T) * norm.cdf(d2)\n",
    "\n",
    "def bs_call_delta(S, K, T, r, vol):\n",
    "    d1 = (np.log(S / K) + (r + 0.5 * vol**2) * T) / (vol * np.sqrt(T))\n",
    "    return norm.cdf(d1)\n",
    "\n",
    "def pnl_delta_hedging(data_file, T, K, r, vol):\n",
    "    data = pd.read_csv(data_file, sep=\";\")\n",
    "    data['TimeToMaturity'] = T - data['Date']\n",
    "\n",
    "    # Initialiser les variables\n",
    "    option_initial_price = bs_call_price(data.iloc[0]['Spot'], K, data.iloc[0]['TimeToMaturity'], r, vol)\n",
    "    positions = [-option_initial_price]\n",
    "    delta_previous = 0\n",
    "    cash = option_initial_price\n",
    "\n",
    "    for i, row in data.iterrows():\n",
    "        # Calculer le delta actuel\n",
    "        delta_current = bs_call_delta(row['Spot'], K, row['TimeToMaturity'], r, vol)\n",
    "        \n",
    "        # Cash flow due to rebalancing\n",
    "        dS = row['Spot'] * (delta_current - delta_previous)\n",
    "        cash -= dS\n",
    "\n",
    "        # Store the delta for next iteration\n",
    "        delta_previous = delta_current\n",
    "        \n",
    "        # Interest on cash\n",
    "        if i < len(data) - 1:\n",
    "            dt = data.iloc[i+1]['Date'] - row['Date']\n",
    "            cash *= np.exp(r * dt)\n",
    "\n",
    "    # PnL at maturity\n",
    "    call_payoff = max(data.iloc[-1]['Spot'] - K, 0)\n",
    "    final_cash = cash - call_payoff + delta_previous * data.iloc[-1]['Spot']\n",
    "    pnl = final_cash + positions[0]\n",
    "    return pnl\n"
   ]
  },
  {
   "cell_type": "code",
   "execution_count": 76,
   "metadata": {},
   "outputs": [],
   "source": [
    "def bs_call_price_2(S, K, T, r, vol):\n",
    "    if T <= 0:  # Si on est à maturité ou au-delà\n",
    "        return max(S-K, 0)\n",
    "    \n",
    "    d1 = (np.log(S / K) + (r + 0.5 * vol**2) * T) / (vol * np.sqrt(T))\n",
    "    d2 = d1 - vol * np.sqrt(T)\n",
    "    return S * norm.cdf(d1) - K * np.exp(-r * T) * norm.cdf(d2)\n",
    "\n",
    "def bs_call_delta_2(S, K, T, r, vol):\n",
    "    if T <= 0:  # Si on est à maturité ou au-delà\n",
    "        return 1.0 if S > K else 0.0\n",
    "    \n",
    "    d1 = (np.log(S / K) + (r + 0.5 * vol**2) * T) / (vol * np.sqrt(T))\n",
    "    return norm.cdf(d1)\n",
    "\n",
    "def pnl_delta_hedging_2(data_file, T, K, r, vol):\n",
    "    data = pd.read_csv(data_file, sep=\";\")\n",
    "    data['TimeToMaturity'] = T - data['Date']\n",
    "\n",
    "    # Initialiser les variables\n",
    "    option_initial_price = bs_call_price_2(data.iloc[0]['Spot'], K, data.iloc[0]['TimeToMaturity'], r, vol)\n",
    "    positions = [-option_initial_price]\n",
    "    delta_previous = 0\n",
    "    cash = option_initial_price\n",
    "\n",
    "    for i, row in data.iterrows():\n",
    "        # Calculer le delta actuel\n",
    "        delta_current = bs_call_delta_2(row['Spot'], K, row['TimeToMaturity'], r, vol)\n",
    "        \n",
    "        # Cash flow due to rebalancing\n",
    "        dS = row['Spot'] * (delta_current - delta_previous)\n",
    "        cash -= dS\n",
    "\n",
    "        # Store the delta for next iteration\n",
    "        delta_previous = delta_current\n",
    "        \n",
    "        # Interest on cash\n",
    "        if i < len(data) - 1:\n",
    "            dt = data.iloc[i+1]['Date'] - row['Date']\n",
    "            cash *= np.exp(r * dt)\n",
    "\n",
    "    # PnL at maturity\n",
    "    call_payoff = max(data.iloc[-1]['Spot'] - K, 0)\n",
    "    final_cash = cash - call_payoff + delta_previous * data.iloc[-1]['Spot']\n",
    "    pnl = final_cash + positions[0]\n",
    "    return pnl\n",
    "\n",
    "# pnl_delta_hedging_2(data_file = \"C:/Users/ayman/Downloads/téléchargement (36).csv\", T=0.620000, K=104.430000, r=0.006000, vol=0.231900)\n"
   ]
  },
  {
   "cell_type": "code",
   "execution_count": 81,
   "metadata": {},
   "outputs": [
    {
     "data": {
      "text/plain": [
       "6.541679479122793"
      ]
     },
     "execution_count": 81,
     "metadata": {},
     "output_type": "execute_result"
    }
   ],
   "source": [
    "american_put_option_pricing(S0=99.52, K=100.42, r=0.0075, n=9, u=1.0734, d=0.9316)"
   ]
  },
  {
   "cell_type": "code",
   "execution_count": 87,
   "metadata": {},
   "outputs": [
    {
     "data": {
      "text/plain": [
       "array(0.67331116)"
      ]
     },
     "execution_count": 87,
     "metadata": {},
     "output_type": "execute_result"
    }
   ],
   "source": [
    "calculate_iv_25(csv_path = \"C:/Users/ayman/Downloads/téléchargement (39).csv\", forward = 109.213000, T = 0.541000 )"
   ]
  }
 ],
 "metadata": {
  "kernelspec": {
   "display_name": "Python 3",
   "language": "python",
   "name": "python3"
  },
  "language_info": {
   "codemirror_mode": {
    "name": "ipython",
    "version": 3
   },
   "file_extension": ".py",
   "mimetype": "text/x-python",
   "name": "python",
   "nbconvert_exporter": "python",
   "pygments_lexer": "ipython3",
   "version": "3.10.10"
  },
  "orig_nbformat": 4
 },
 "nbformat": 4,
 "nbformat_minor": 2
}
